{
  "nbformat": 4,
  "nbformat_minor": 0,
  "metadata": {
    "colab": {
      "provenance": []
    },
    "kernelspec": {
      "name": "python3",
      "display_name": "Python 3"
    },
    "language_info": {
      "name": "python"
    }
  },
  "cells": [
    {
      "cell_type": "code",
      "execution_count": 1,
      "metadata": {
        "colab": {
          "base_uri": "https://localhost:8080/"
        },
        "id": "yAlWl_OWrtHa",
        "outputId": "f5b03a65-29cb-4af1-c9fd-afad3693500d"
      },
      "outputs": [
        {
          "output_type": "stream",
          "name": "stdout",
          "text": [
            "Does KB entail R?  True\n",
            "Does KB entail R -> P?  False\n",
            "Does KB entail Q -> R?  True\n",
            "1BM22CS028\n",
            "AKASH K S\n"
          ]
        }
      ],
      "source": [
        "from itertools import product\n",
        "\n",
        "def implies(p, q):\n",
        "    \"\"\"Returns True if p implies q (p -> q).\"\"\"\n",
        "    return not p or q\n",
        "\n",
        "def negation(p):\n",
        "    \"\"\"Returns the negation of p.\"\"\"\n",
        "    return not p\n",
        "\n",
        "def disjunction(p, q):\n",
        "    \"\"\"Returns the disjunction of p and q (p OR q).\"\"\"\n",
        "    return p or q\n",
        "\n",
        "def kb(Q, P, R):\n",
        "    \"\"\"Represents the knowledge base. Returns the result of the combined logical operations.\"\"\"\n",
        "    return implies(Q, P) and implies(P, negation(Q)) and disjunction(Q, R)\n",
        "\n",
        "\n",
        "def query_r(Q, P, R):\n",
        "    \"\"\"Query: Returns R.\"\"\"\n",
        "    return R\n",
        "\n",
        "def query_r_implies_p(Q, P, R):\n",
        "    \"\"\"Query: Returns R -> P.\"\"\"\n",
        "    return implies(R, P)\n",
        "\n",
        "def query_q_implies_r(Q, P, R):\n",
        "    \"\"\"Query: Returns Q -> R.\"\"\"\n",
        "    return implies(Q, R)\n",
        "\n",
        "def entails(kb, query):\n",
        "    \"\"\"Checks if the knowledge base entails the query.\"\"\"\n",
        "    for Q, P, R in product([False, True], repeat=3):\n",
        "        if kb(Q, P, R) and not query(Q, P, R):\n",
        "            return False\n",
        "    return True\n",
        "\n",
        "if __name__ == \"__main__\":\n",
        "    print(\"Does KB entail R? \", entails(kb, query_r))\n",
        "    print(\"Does KB entail R -> P? \", entails(kb, query_r_implies_p))\n",
        "    print(\"Does KB entail Q -> R? \", entails(kb, query_q_implies_r))\n",
        "\n",
        "    print(\"1BM22CS028\")\n",
        "    print(\"AKASH K S\")\n"
      ]
    }
  ]
}