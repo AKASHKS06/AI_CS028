{
  "nbformat": 4,
  "nbformat_minor": 0,
  "metadata": {
    "colab": {
      "provenance": []
    },
    "kernelspec": {
      "name": "python3",
      "display_name": "Python 3"
    },
    "language_info": {
      "name": "python"
    }
  },
  "cells": [
    {
      "cell_type": "code",
      "execution_count": 2,
      "metadata": {
        "colab": {
          "base_uri": "https://localhost:8080/"
        },
        "id": "WGFvHERvnlHy",
        "outputId": "bc39b5f4-772e-45ca-94f3-3a4cfb40367b"
      },
      "outputs": [
        {
          "output_type": "stream",
          "name": "stdout",
          "text": [
            "Trying to unify: x(z, l, j, k) with x(y, l, n, o)\n",
            "Trying to unify: z with y\n",
            "Substituting z with y\n",
            "Trying to unify: l with l\n",
            "Trying to unify: j with n\n",
            "Substituting j with n\n",
            "Trying to unify: k with o\n",
            "Substituting k with o\n",
            "Unification successful with substitutions: {'z': 'y', 'j': 'n', 'k': 'o'}\n",
            "Unification succeeded with substitutions: {'z': 'y', 'j': 'n', 'k': 'o'}\n"
          ]
        }
      ],
      "source": [
        "def variable_occurs_in(term, variable):\n",
        "    if term == variable:\n",
        "        return True\n",
        "    if isinstance(term, list):\n",
        "        return any(variable_occurs_in(t, variable) for t in term)\n",
        "    return False\n",
        "\n",
        "\n",
        "def format_expression(expr):\n",
        "    if isinstance(expr, str):\n",
        "        return expr\n",
        "    elif isinstance(expr, tuple):\n",
        "        return f\"{expr[0]}({', '.join(map(format_expression, expr[1:]))})\"\n",
        "    return str(expr)\n",
        "\n",
        "\n",
        "def apply_subs_to_term(term, substitutions):\n",
        "    return substitutions.get(term, term)\n",
        "\n",
        "\n",
        "def perform_unification(term1, term2, subs=None):\n",
        "    if subs is None:\n",
        "        subs = {}\n",
        "\n",
        "    print(f\"Trying to unify: {format_expression(term1)} with {format_expression(term2)}\")\n",
        "\n",
        "    if isinstance(term1, str):\n",
        "        term1 = apply_subs_to_term(term1, subs)\n",
        "        if term1 == term2:\n",
        "            return subs\n",
        "        if variable_occurs_in(term1, term2):\n",
        "            print(\"Occurs check failed!\")\n",
        "            return None\n",
        "        print(f\"Substituting {term1} with {term2}\")\n",
        "        subs[term1] = term2\n",
        "        return subs\n",
        "\n",
        "    elif isinstance(term2, str):\n",
        "        term2 = apply_subs_to_term(term2, subs)\n",
        "        if term1 == term2:\n",
        "            return subs\n",
        "        if variable_occurs_in(term2, term1):\n",
        "            print(\"Occurs check failed!\")\n",
        "            return None\n",
        "        print(f\"Substituting {term2} with {term1}\")\n",
        "        subs[term2] = term1\n",
        "        return subs\n",
        "\n",
        "    if isinstance(term1, tuple) and isinstance(term2, tuple):\n",
        "        if term1[0] != term2[0]:\n",
        "            print(\"Predicate symbols are different!\")\n",
        "            return None\n",
        "        if len(term1) != len(term2):\n",
        "            print(\"Predicates have a different number of arguments!\")\n",
        "            return None\n",
        "\n",
        "        for sub_term1, sub_term2 in zip(term1[1:], term2[1:]):\n",
        "            result = perform_unification(sub_term1, sub_term2, subs)\n",
        "            if result is None:\n",
        "                print(f\"Unification failed for {format_expression(sub_term1)} and {format_expression(sub_term2)}\")\n",
        "                return None\n",
        "            subs = result\n",
        "\n",
        "    else:\n",
        "        print(\"Invalid terms encountered!\")\n",
        "        return None\n",
        "\n",
        "    print(f\"Unification successful with substitutions: {subs}\")\n",
        "    return subs\n",
        "\n",
        "\n",
        "term1 = (\"x\", \"z\", \"l\", \"j\", \"k\")\n",
        "term2 = (\"x\", \"y\", \"l\", \"n\", \"o\")\n",
        "\n",
        "subs = perform_unification(term1, term2)\n",
        "if subs is None:\n",
        "    print(\"Unification failed!\")\n",
        "else:\n",
        "    print(\"Unification succeeded with substitutions:\", subs)\n",
        "print(\"1BM22CS028\")\n",
        "PRINT(\"AKASH K S\")"
      ]
    }
  ]
}