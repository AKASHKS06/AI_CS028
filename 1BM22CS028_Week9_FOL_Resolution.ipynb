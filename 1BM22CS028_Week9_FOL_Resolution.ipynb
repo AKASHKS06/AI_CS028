{
  "nbformat": 4,
  "nbformat_minor": 0,
  "metadata": {
    "colab": {
      "provenance": []
    },
    "kernelspec": {
      "name": "python3",
      "display_name": "Python 3"
    },
    "language_info": {
      "name": "python"
    }
  },
  "cells": [
    {
      "cell_type": "code",
      "execution_count": 1,
      "metadata": {
        "colab": {
          "base_uri": "https://localhost:8080/"
        },
        "id": "C-bfiYMclNeX",
        "outputId": "5f69eb70-b3ea-45ce-ee59-3061047ae2e3"
      },
      "outputs": [
        {
          "output_type": "stream",
          "name": "stdout",
          "text": [
            "Proven: Leela is older than Oshin.\n",
            "1BM22CS028\n",
            "AKASH K S\n"
          ]
        }
      ],
      "source": [
        "from itertools import combinations\n",
        "\n",
        "def unify(x, y, theta=None):\n",
        "    if theta is None:\n",
        "        theta = {}\n",
        "\n",
        "    if x == y:\n",
        "        return theta\n",
        "    elif isinstance(x, str) and x.islower():\n",
        "        return unify_var(x, y, theta)\n",
        "    elif isinstance(y, str) and y.islower():\n",
        "        return unify_var(y, x, theta)\n",
        "    elif isinstance(x, tuple) and isinstance(y, tuple) and len(x) == len(y):\n",
        "        return unify(x[1:], y[1:], unify(x[0], y[0], theta))\n",
        "    return None\n",
        "\n",
        "def unify_var(var, value, theta):\n",
        "    if var in theta:\n",
        "        return unify(theta[var], value, theta)\n",
        "    elif value in theta:\n",
        "        return unify(var, theta[value], theta)\n",
        "    else:\n",
        "        theta[var] = value\n",
        "        return theta\n",
        "\n",
        "def resolve(clause1, clause2):\n",
        "    resolvents = set()\n",
        "\n",
        "    for pred1 in clause1:\n",
        "        for pred2 in clause2:\n",
        "            theta = unify(pred1, negate(pred2))\n",
        "            if theta is not None:\n",
        "                resolvent = (substitute(clause1, theta) | substitute(clause2, theta)) - {pred1, pred2}\n",
        "                resolvents.add(frozenset(resolvent))\n",
        "    return resolvents\n",
        "\n",
        "def negate(predicate):\n",
        "    if isinstance(predicate, tuple) and predicate[0] == 'not':\n",
        "        return predicate[1]\n",
        "    return ('not', predicate)\n",
        "\n",
        "def substitute(clause, theta):\n",
        "    return {substitute_predicate(p, theta) for p in clause}\n",
        "\n",
        "def substitute_predicate(predicate, theta):\n",
        "    if isinstance(predicate, str):\n",
        "        return theta.get(predicate, predicate)\n",
        "    elif isinstance(predicate, tuple):\n",
        "        return (predicate[0],) + tuple(theta.get(arg, arg) for arg in predicate[1:])\n",
        "    return predicate\n",
        "\n",
        "def resolution(kb, query):\n",
        "    negated_query = frozenset({negate(query)})\n",
        "    clauses = kb | {negated_query}\n",
        "    new_clauses = set()\n",
        "\n",
        "    while True:\n",
        "        for clause1, clause2 in combinations(clauses, 2):\n",
        "            resolvents = resolve(clause1, clause2)\n",
        "            if frozenset() in resolvents:\n",
        "                return True\n",
        "            new_clauses.update(resolvents)\n",
        "\n",
        "        if new_clauses.issubset(clauses):\n",
        "            return False\n",
        "\n",
        "        clauses |= new_clauses\n",
        "\n",
        "kb = {\n",
        "    frozenset({('Mother', 'leela', 'Oshin')}),\n",
        "    frozenset({('Alive', 'leela')}),\n",
        "    frozenset({('not', ('Mother', 'x', 'y')), ('Parent', 'x', 'y')}),\n",
        "    frozenset({('not', 'Parent', 'x', 'y'), ('not', 'Alive', 'x'), ('Older', 'x', 'y')}),\n",
        "}\n",
        "\n",
        "query = ('Older', 'leela', 'Oshin')\n",
        "\n",
        "result = resolution(kb, query)\n",
        "if result:\n",
        "    print(\"Proven: Leela is older than Oshin.\")\n",
        "else:\n",
        "    print(\"Cannot prove: Leela is older than Oshin.\")\n",
        "print(\"1BM22CS028\")\n",
        "print(\"AKASH K S\")"
      ]
    }
  ]
}