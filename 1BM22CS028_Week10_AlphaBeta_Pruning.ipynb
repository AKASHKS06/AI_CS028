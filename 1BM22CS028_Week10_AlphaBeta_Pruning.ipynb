{
  "nbformat": 4,
  "nbformat_minor": 0,
  "metadata": {
    "colab": {
      "provenance": []
    },
    "kernelspec": {
      "name": "python3",
      "display_name": "Python 3"
    },
    "language_info": {
      "name": "python"
    }
  },
  "cells": [
    {
      "cell_type": "code",
      "execution_count": 3,
      "metadata": {
        "colab": {
          "base_uri": "https://localhost:8080/"
        },
        "id": "HE6vmlnomxmD",
        "outputId": "73a49a37-a692-4100-9692-93571ff26a19"
      },
      "outputs": [
        {
          "output_type": "stream",
          "name": "stdout",
          "text": [
            "Optimal score: 10\n",
            "Optimal sequence: B -> D -> H\n",
            "1BM22CS028\n",
            "AKASH K S\n"
          ]
        }
      ],
      "source": [
        "class TreeNode:\n",
        "    def __init__(self, name, value=None, children=None):\n",
        "        self.name = name\n",
        "        self.value = value\n",
        "        self.children = children if children is not None else []\n",
        "\n",
        "def evaluate_node(node):\n",
        "    return node.value\n",
        "\n",
        "def is_leaf(node):\n",
        "    return node.value is not None\n",
        "\n",
        "def get_node_children(node):\n",
        "    return node.children\n",
        "\n",
        "def alpha_beta_search(node, depth, alpha, beta, is_maximizing_player, path_history=[]):\n",
        "    if depth == 0 or is_leaf(node):\n",
        "        return evaluate_node(node), path_history\n",
        "\n",
        "    if is_maximizing_player:\n",
        "        best_value = float('-inf')\n",
        "        best_path = None\n",
        "        for child in get_node_children(node):\n",
        "            child_value, child_path = alpha_beta_search(child, depth - 1, alpha, beta, False, path_history + [child.name])\n",
        "            if child_value > best_value:\n",
        "                best_value = child_value\n",
        "                best_path = child_path\n",
        "            alpha = max(alpha, best_value)\n",
        "            if beta <= alpha:\n",
        "                break\n",
        "        return best_value, best_path\n",
        "    else:\n",
        "        best_value = float('inf')\n",
        "        best_path = None\n",
        "        for child in get_node_children(node):\n",
        "            child_value, child_path = alpha_beta_search(child, depth - 1, alpha, beta, True, path_history + [child.name])\n",
        "            if child_value < best_value:\n",
        "                best_value = child_value\n",
        "                best_path = child_path\n",
        "            beta = min(beta, best_value)\n",
        "            if beta <= alpha:\n",
        "                break\n",
        "        return best_value, best_path\n",
        "\n",
        "leaf1 = TreeNode('H', value=10)\n",
        "leaf2 = TreeNode('I', value=9)\n",
        "leaf3 = TreeNode('J', value=14)\n",
        "leaf4 = TreeNode('K', value=18)\n",
        "leaf5 = TreeNode('L', value=5)\n",
        "leaf6 = TreeNode('M', value=4)\n",
        "leaf7 = TreeNode('N', value=50)\n",
        "leaf8 = TreeNode('O', value=5)\n",
        "\n",
        "nodeD = TreeNode('D', children=[leaf1, leaf2])\n",
        "nodeE = TreeNode('E', children=[leaf3, leaf4])\n",
        "nodeF = TreeNode('F', children=[leaf5, leaf6])\n",
        "nodeG = TreeNode('G', children=[leaf7, leaf8])\n",
        "\n",
        "nodeB = TreeNode('B', children=[nodeD, nodeE])\n",
        "nodeC = TreeNode('C', children=[nodeF, nodeG])\n",
        "\n",
        "root = TreeNode('A', children=[nodeB, nodeC])\n",
        "\n",
        "is_maximizing = True\n",
        "alpha_init = float('-inf')\n",
        "beta_init = float('inf')\n",
        "max_depth = 3\n",
        "\n",
        "optimal_score, optimal_sequence = alpha_beta_search(root, max_depth, alpha_init, beta_init, is_maximizing)\n",
        "\n",
        "print(f\"Optimal score: {optimal_score}\")\n",
        "print(f\"Optimal sequence: {' -> '.join(optimal_sequence)}\")\n",
        "print(\"1BM22CS028\")\n",
        "print(\"AKASH K S\")"
      ]
    }
  ]
}