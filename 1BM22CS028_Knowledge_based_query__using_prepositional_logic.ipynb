{
  "nbformat": 4,
  "nbformat_minor": 0,
  "metadata": {
    "colab": {
      "provenance": []
    },
    "kernelspec": {
      "name": "python3",
      "display_name": "Python 3"
    },
    "language_info": {
      "name": "python"
    }
  },
  "cells": [
    {
      "cell_type": "code",
      "execution_count": 2,
      "metadata": {
        "colab": {
          "base_uri": "https://localhost:8080/"
        },
        "id": "yAlWl_OWrtHa",
        "outputId": "f3d2f621-388d-4b05-e818-f52b2c597c47"
      },
      "outputs": [
        {
          "output_type": "stream",
          "name": "stdout",
          "text": [
            "Truth table for Implication (Q -> P):\n",
            "Q=False, P=False => Q -> P: True\n",
            "Q=False, P=True => Q -> P: True\n",
            "Q=True, P=False => Q -> P: False\n",
            "Q=True, P=True => Q -> P: True\n",
            "\n",
            "Truth table for Negation (¬Q):\n",
            "Q=False => ¬Q: True\n",
            "Q=True => ¬Q: False\n",
            "\n",
            "Truth table for Disjunction (Q ∨ R):\n",
            "Q=False, R=False => Q ∨ R: False\n",
            "Q=False, R=True => Q ∨ R: True\n",
            "Q=True, R=False => Q ∨ R: True\n",
            "Q=True, R=True => Q ∨ R: True\n",
            "\n",
            "Does KB entail R?  True\n",
            "Does KB entail R -> P?  False\n",
            "Does KB entail Q -> R?  True\n",
            "1BM22CS028\n",
            "AKASH K S\n"
          ]
        }
      ],
      "source": [
        "from itertools import product\n",
        "\n",
        "def truth_table(variables, operation):\n",
        "    return [(tuple(inputs), operation(*inputs)) for inputs in product([False, True], repeat=variables)]\n",
        "\n",
        "def implies(p, q):\n",
        "    return not p or q\n",
        "\n",
        "def negation(p):\n",
        "    return not p\n",
        "\n",
        "def disjunction(p, q):\n",
        "    return p or q\n",
        "\n",
        "def knowledge_base(Q, P, R):\n",
        "    return implies(Q, P) and implies(P, negation(Q)) and disjunction(Q, R)\n",
        "\n",
        "def query_r(Q, P, R):\n",
        "    return R\n",
        "\n",
        "def query_r_implies_p(Q, P, R):\n",
        "    return implies(R, P)\n",
        "\n",
        "def query_q_implies_r(Q, P, R):\n",
        "    return implies(Q, R)\n",
        "\n",
        "def check_entailment(kb_func, query_func):\n",
        "    for Q, P, R in product([False, True], repeat=3):\n",
        "        if kb_func(Q, P, R) and not query_func(Q, P, R):\n",
        "            return False\n",
        "    return True\n",
        "\n",
        "def generate_truth_tables():\n",
        "    print(\"Truth table for Implication (Q -> P):\")\n",
        "    for row in truth_table(2, implies):\n",
        "        print(f\"Q={row[0][0]}, P={row[0][1]} => Q -> P: {row[1]}\")\n",
        "\n",
        "    print(\"\\nTruth table for Negation (¬Q):\")\n",
        "    for row in truth_table(1, negation):\n",
        "        print(f\"Q={row[0][0]} => ¬Q: {row[1]}\")\n",
        "\n",
        "    print(\"\\nTruth table for Disjunction (Q ∨ R):\")\n",
        "    for row in truth_table(2, disjunction):\n",
        "        print(f\"Q={row[0][0]}, R={row[0][1]} => Q ∨ R: {row[1]}\")\n",
        "\n",
        "if __name__ == \"__main__\":\n",
        "    generate_truth_tables()\n",
        "\n",
        "    result_r = check_entailment(knowledge_base, query_r)\n",
        "    result_r_implies_p = check_entailment(knowledge_base, query_r_implies_p)\n",
        "    result_q_implies_r = check_entailment(knowledge_base, query_q_implies_r)\n",
        "\n",
        "    print(\"\\nDoes KB entail R? \", result_r)\n",
        "    print(\"Does KB entail R -> P? \", result_r_implies_p)\n",
        "    print(\"Does KB entail Q -> R? \", result_q_implies_r)\n",
        "\n",
        "    print(\"1BM22CS028\")\n",
        "    print(\"AKASH K S\")\n"
      ]
    }
  ]
}